{
 "metadata": {
  "language_info": {
   "codemirror_mode": {
    "name": "ipython",
    "version": 3
   },
   "file_extension": ".py",
   "mimetype": "text/x-python",
   "name": "python",
   "nbconvert_exporter": "python",
   "pygments_lexer": "ipython3",
   "version": "3.8.8"
  },
  "orig_nbformat": 2,
  "kernelspec": {
   "name": "python388jvsc74a57bd01412f9c017d3237f4564fc620eca79a341c5743f1405f2e5a098604078fc9a5a",
   "display_name": "Python 3.8.8 64-bit ('tf': conda)"
  }
 },
 "nbformat": 4,
 "nbformat_minor": 2,
 "cells": [
  {
   "cell_type": "code",
   "execution_count": 2,
   "metadata": {},
   "outputs": [],
   "source": [
    "import numpy as np\n",
    "import pandas as pd\n",
    "import random\n",
    "import matplotlib.pyplot as plt\n",
    "%matplotlib inline"
   ]
  },
  {
   "cell_type": "code",
   "execution_count": 3,
   "metadata": {},
   "outputs": [],
   "source": [
    "df = pd.read_csv('MelbourneHousing.csv')"
   ]
  },
  {
   "cell_type": "code",
   "execution_count": 4,
   "metadata": {},
   "outputs": [
    {
     "output_type": "stream",
     "name": "stdout",
     "text": [
      "(34857, 21)\n"
     ]
    },
    {
     "output_type": "execute_result",
     "data": {
      "text/plain": [
       "       Suburb             Address  Rooms Type      Price Method SellerG  \\\n",
       "0  Abbotsford       68 Studley St      2    h        NaN     SS  Jellis   \n",
       "1  Abbotsford        85 Turner St      2    h  1480000.0      S  Biggin   \n",
       "2  Abbotsford     25 Bloomburg St      2    h  1035000.0      S  Biggin   \n",
       "3  Abbotsford  18/659 Victoria St      3    u        NaN     VB  Rounds   \n",
       "4  Abbotsford        5 Charles St      3    h  1465000.0     SP  Biggin   \n",
       "\n",
       "        Date  Distance  Postcode  ...  Bathroom  Car  Landsize  BuildingArea  \\\n",
       "0  3/09/2016       2.5    3067.0  ...       1.0  1.0     126.0           NaN   \n",
       "1  3/12/2016       2.5    3067.0  ...       1.0  1.0     202.0           NaN   \n",
       "2  4/02/2016       2.5    3067.0  ...       1.0  0.0     156.0          79.0   \n",
       "3  4/02/2016       2.5    3067.0  ...       2.0  1.0       0.0           NaN   \n",
       "4  4/03/2017       2.5    3067.0  ...       2.0  0.0     134.0         150.0   \n",
       "\n",
       "   YearBuilt         CouncilArea Lattitude  Longtitude             Regionname  \\\n",
       "0        NaN  Yarra City Council  -37.8014    144.9958  Northern Metropolitan   \n",
       "1        NaN  Yarra City Council  -37.7996    144.9984  Northern Metropolitan   \n",
       "2     1900.0  Yarra City Council  -37.8079    144.9934  Northern Metropolitan   \n",
       "3        NaN  Yarra City Council  -37.8114    145.0116  Northern Metropolitan   \n",
       "4     1900.0  Yarra City Council  -37.8093    144.9944  Northern Metropolitan   \n",
       "\n",
       "  Propertycount  \n",
       "0        4019.0  \n",
       "1        4019.0  \n",
       "2        4019.0  \n",
       "3        4019.0  \n",
       "4        4019.0  \n",
       "\n",
       "[5 rows x 21 columns]"
      ],
      "text/html": "<div>\n<style scoped>\n    .dataframe tbody tr th:only-of-type {\n        vertical-align: middle;\n    }\n\n    .dataframe tbody tr th {\n        vertical-align: top;\n    }\n\n    .dataframe thead th {\n        text-align: right;\n    }\n</style>\n<table border=\"1\" class=\"dataframe\">\n  <thead>\n    <tr style=\"text-align: right;\">\n      <th></th>\n      <th>Suburb</th>\n      <th>Address</th>\n      <th>Rooms</th>\n      <th>Type</th>\n      <th>Price</th>\n      <th>Method</th>\n      <th>SellerG</th>\n      <th>Date</th>\n      <th>Distance</th>\n      <th>Postcode</th>\n      <th>...</th>\n      <th>Bathroom</th>\n      <th>Car</th>\n      <th>Landsize</th>\n      <th>BuildingArea</th>\n      <th>YearBuilt</th>\n      <th>CouncilArea</th>\n      <th>Lattitude</th>\n      <th>Longtitude</th>\n      <th>Regionname</th>\n      <th>Propertycount</th>\n    </tr>\n  </thead>\n  <tbody>\n    <tr>\n      <th>0</th>\n      <td>Abbotsford</td>\n      <td>68 Studley St</td>\n      <td>2</td>\n      <td>h</td>\n      <td>NaN</td>\n      <td>SS</td>\n      <td>Jellis</td>\n      <td>3/09/2016</td>\n      <td>2.5</td>\n      <td>3067.0</td>\n      <td>...</td>\n      <td>1.0</td>\n      <td>1.0</td>\n      <td>126.0</td>\n      <td>NaN</td>\n      <td>NaN</td>\n      <td>Yarra City Council</td>\n      <td>-37.8014</td>\n      <td>144.9958</td>\n      <td>Northern Metropolitan</td>\n      <td>4019.0</td>\n    </tr>\n    <tr>\n      <th>1</th>\n      <td>Abbotsford</td>\n      <td>85 Turner St</td>\n      <td>2</td>\n      <td>h</td>\n      <td>1480000.0</td>\n      <td>S</td>\n      <td>Biggin</td>\n      <td>3/12/2016</td>\n      <td>2.5</td>\n      <td>3067.0</td>\n      <td>...</td>\n      <td>1.0</td>\n      <td>1.0</td>\n      <td>202.0</td>\n      <td>NaN</td>\n      <td>NaN</td>\n      <td>Yarra City Council</td>\n      <td>-37.7996</td>\n      <td>144.9984</td>\n      <td>Northern Metropolitan</td>\n      <td>4019.0</td>\n    </tr>\n    <tr>\n      <th>2</th>\n      <td>Abbotsford</td>\n      <td>25 Bloomburg St</td>\n      <td>2</td>\n      <td>h</td>\n      <td>1035000.0</td>\n      <td>S</td>\n      <td>Biggin</td>\n      <td>4/02/2016</td>\n      <td>2.5</td>\n      <td>3067.0</td>\n      <td>...</td>\n      <td>1.0</td>\n      <td>0.0</td>\n      <td>156.0</td>\n      <td>79.0</td>\n      <td>1900.0</td>\n      <td>Yarra City Council</td>\n      <td>-37.8079</td>\n      <td>144.9934</td>\n      <td>Northern Metropolitan</td>\n      <td>4019.0</td>\n    </tr>\n    <tr>\n      <th>3</th>\n      <td>Abbotsford</td>\n      <td>18/659 Victoria St</td>\n      <td>3</td>\n      <td>u</td>\n      <td>NaN</td>\n      <td>VB</td>\n      <td>Rounds</td>\n      <td>4/02/2016</td>\n      <td>2.5</td>\n      <td>3067.0</td>\n      <td>...</td>\n      <td>2.0</td>\n      <td>1.0</td>\n      <td>0.0</td>\n      <td>NaN</td>\n      <td>NaN</td>\n      <td>Yarra City Council</td>\n      <td>-37.8114</td>\n      <td>145.0116</td>\n      <td>Northern Metropolitan</td>\n      <td>4019.0</td>\n    </tr>\n    <tr>\n      <th>4</th>\n      <td>Abbotsford</td>\n      <td>5 Charles St</td>\n      <td>3</td>\n      <td>h</td>\n      <td>1465000.0</td>\n      <td>SP</td>\n      <td>Biggin</td>\n      <td>4/03/2017</td>\n      <td>2.5</td>\n      <td>3067.0</td>\n      <td>...</td>\n      <td>2.0</td>\n      <td>0.0</td>\n      <td>134.0</td>\n      <td>150.0</td>\n      <td>1900.0</td>\n      <td>Yarra City Council</td>\n      <td>-37.8093</td>\n      <td>144.9944</td>\n      <td>Northern Metropolitan</td>\n      <td>4019.0</td>\n    </tr>\n  </tbody>\n</table>\n<p>5 rows × 21 columns</p>\n</div>"
     },
     "metadata": {},
     "execution_count": 4
    }
   ],
   "source": [
    "print(df.shape)\n",
    "df.head()"
   ]
  },
  {
   "cell_type": "code",
   "execution_count": 5,
   "metadata": {},
   "outputs": [
    {
     "output_type": "execute_result",
     "data": {
      "text/plain": [
       "Suburb             351\n",
       "Address          34009\n",
       "Rooms               12\n",
       "Type                 3\n",
       "Price             2871\n",
       "Method               9\n",
       "SellerG            388\n",
       "Date                78\n",
       "Distance           215\n",
       "Postcode           211\n",
       "Bedroom2            15\n",
       "Bathroom            11\n",
       "Car                 15\n",
       "Landsize          1684\n",
       "BuildingArea       740\n",
       "YearBuilt          160\n",
       "CouncilArea         33\n",
       "Lattitude        13402\n",
       "Longtitude       14524\n",
       "Regionname           8\n",
       "Propertycount      342\n",
       "dtype: int64"
      ]
     },
     "metadata": {},
     "execution_count": 5
    }
   ],
   "source": [
    "df.nunique(axis=0)"
   ]
  },
  {
   "cell_type": "code",
   "execution_count": 6,
   "metadata": {},
   "outputs": [
    {
     "output_type": "stream",
     "name": "stdout",
     "text": [
      "<class 'pandas.core.frame.DataFrame'>\nRangeIndex: 34857 entries, 0 to 34856\nData columns (total 21 columns):\n #   Column         Non-Null Count  Dtype  \n---  ------         --------------  -----  \n 0   Suburb         34857 non-null  object \n 1   Address        34857 non-null  object \n 2   Rooms          34857 non-null  int64  \n 3   Type           34857 non-null  object \n 4   Price          27247 non-null  float64\n 5   Method         34857 non-null  object \n 6   SellerG        34857 non-null  object \n 7   Date           34857 non-null  object \n 8   Distance       34856 non-null  float64\n 9   Postcode       34856 non-null  float64\n 10  Bedroom2       26640 non-null  float64\n 11  Bathroom       26631 non-null  float64\n 12  Car            26129 non-null  float64\n 13  Landsize       23047 non-null  float64\n 14  BuildingArea   13742 non-null  float64\n 15  YearBuilt      15551 non-null  float64\n 16  CouncilArea    34854 non-null  object \n 17  Lattitude      26881 non-null  float64\n 18  Longtitude     26881 non-null  float64\n 19  Regionname     34854 non-null  object \n 20  Propertycount  34854 non-null  float64\ndtypes: float64(12), int64(1), object(8)\nmemory usage: 5.6+ MB\n"
     ]
    }
   ],
   "source": [
    "df.info()"
   ]
  },
  {
   "source": [
    "Data Cleaning \n",
    "* changing object dtype to categorical\n",
    "* converting date to datedtype\n",
    "* dropping null values \n",
    "* filling null values with mean \n",
    "* dropping columns \n",
    "* removing duplicate variables\n"
   ],
   "cell_type": "markdown",
   "metadata": {}
  },
  {
   "cell_type": "code",
   "execution_count": 7,
   "metadata": {},
   "outputs": [
    {
     "output_type": "execute_result",
     "data": {
      "text/plain": [
       "Index(['Suburb', 'Address', 'Type', 'Method', 'SellerG', 'Date', 'CouncilArea',\n",
       "       'Regionname'],\n",
       "      dtype='object')"
      ]
     },
     "metadata": {},
     "execution_count": 7
    }
   ],
   "source": [
    "df.select_dtypes(['object']).columns"
   ]
  },
  {
   "cell_type": "code",
   "execution_count": 8,
   "metadata": {},
   "outputs": [],
   "source": [
    "#changing objects to categorical \n",
    "df_obj = ['Suburb', 'Address', 'Type', 'Method', 'SellerG','CouncilArea',\n",
    "       'Regionname','Postcode'] \n",
    "\n",
    "for i in df_obj :\n",
    "    df[i] = df[i].astype('category')\n"
   ]
  },
  {
   "cell_type": "code",
   "execution_count": 9,
   "metadata": {},
   "outputs": [
    {
     "output_type": "stream",
     "name": "stdout",
     "text": [
      "<class 'pandas.core.frame.DataFrame'>\nRangeIndex: 34857 entries, 0 to 34856\nData columns (total 21 columns):\n #   Column         Non-Null Count  Dtype         \n---  ------         --------------  -----         \n 0   Suburb         34857 non-null  category      \n 1   Address        34857 non-null  category      \n 2   Rooms          34857 non-null  int64         \n 3   Type           34857 non-null  category      \n 4   Price          27247 non-null  float64       \n 5   Method         34857 non-null  category      \n 6   SellerG        34857 non-null  category      \n 7   Date           34857 non-null  datetime64[ns]\n 8   Distance       34856 non-null  float64       \n 9   Postcode       34856 non-null  category      \n 10  Bedroom2       26640 non-null  float64       \n 11  Bathroom       26631 non-null  float64       \n 12  Car            26129 non-null  float64       \n 13  Landsize       23047 non-null  float64       \n 14  BuildingArea   13742 non-null  float64       \n 15  YearBuilt      15551 non-null  float64       \n 16  CouncilArea    34854 non-null  category      \n 17  Lattitude      26881 non-null  float64       \n 18  Longtitude     26881 non-null  float64       \n 19  Regionname     34854 non-null  category      \n 20  Propertycount  34854 non-null  float64       \ndtypes: category(8), datetime64[ns](1), float64(11), int64(1)\nmemory usage: 5.5 MB\n"
     ]
    }
   ],
   "source": [
    "df['Date'] = pd.to_datetime(df['Date'])\n",
    "df.info()"
   ]
  },
  {
   "cell_type": "code",
   "execution_count": 10,
   "metadata": {},
   "outputs": [
    {
     "output_type": "execute_result",
     "data": {
      "text/plain": [
       "0        Abbotsford\n",
       "1        Abbotsford\n",
       "2        Abbotsford\n",
       "3        Abbotsford\n",
       "4        Abbotsford\n",
       "            ...    \n",
       "34852    Yarraville\n",
       "34853    Yarraville\n",
       "34854    Yarraville\n",
       "34855    Yarraville\n",
       "34856    Yarraville\n",
       "Name: Suburb, Length: 34857, dtype: category\n",
       "Categories (351, object): ['Abbotsford', 'Aberfeldie', 'Airport West', 'Albanvale', ..., 'Yarra Glen', 'Yarraville', 'croydon', 'viewbank']"
      ]
     },
     "metadata": {},
     "execution_count": 10
    }
   ],
   "source": [
    "df['Suburb']"
   ]
  },
  {
   "cell_type": "code",
   "execution_count": 11,
   "metadata": {},
   "outputs": [
    {
     "output_type": "execute_result",
     "data": {
      "text/plain": [
       "                 count          mean            std          min  \\\n",
       "Rooms          34857.0  3.031012e+00       0.969933      1.00000   \n",
       "Price          27247.0  1.050173e+06  641467.130105  85000.00000   \n",
       "Distance       34856.0  1.118493e+01       6.788892      0.00000   \n",
       "Bedroom2       26640.0  3.084647e+00       0.980690      0.00000   \n",
       "Bathroom       26631.0  1.624798e+00       0.724212      0.00000   \n",
       "Car            26129.0  1.728845e+00       1.010771      0.00000   \n",
       "Landsize       23047.0  5.935990e+02    3398.841946      0.00000   \n",
       "BuildingArea   13742.0  1.602564e+02     401.267060      0.00000   \n",
       "YearBuilt      15551.0  1.965290e+03      37.328178   1196.00000   \n",
       "Lattitude      26881.0 -3.781063e+01       0.090279    -38.19043   \n",
       "Longtitude     26881.0  1.450019e+02       0.120169    144.42379   \n",
       "Propertycount  34854.0  7.572888e+03    4428.090313     83.00000   \n",
       "\n",
       "                        25%          50%           75%           max  \n",
       "Rooms               2.00000       3.0000  4.000000e+00  1.600000e+01  \n",
       "Price          635000.00000  870000.0000  1.295000e+06  1.120000e+07  \n",
       "Distance            6.40000      10.3000  1.400000e+01  4.810000e+01  \n",
       "Bedroom2            2.00000       3.0000  4.000000e+00  3.000000e+01  \n",
       "Bathroom            1.00000       2.0000  2.000000e+00  1.200000e+01  \n",
       "Car                 1.00000       2.0000  2.000000e+00  2.600000e+01  \n",
       "Landsize          224.00000     521.0000  6.700000e+02  4.330140e+05  \n",
       "BuildingArea      102.00000     136.0000  1.880000e+02  4.451500e+04  \n",
       "YearBuilt        1940.00000    1970.0000  2.000000e+03  2.106000e+03  \n",
       "Lattitude         -37.86295     -37.8076 -3.775410e+01 -3.739020e+01  \n",
       "Longtitude        144.93350     145.0078  1.450719e+02  1.455264e+02  \n",
       "Propertycount    4385.00000    6763.0000  1.041200e+04  2.165000e+04  "
      ],
      "text/html": "<div>\n<style scoped>\n    .dataframe tbody tr th:only-of-type {\n        vertical-align: middle;\n    }\n\n    .dataframe tbody tr th {\n        vertical-align: top;\n    }\n\n    .dataframe thead th {\n        text-align: right;\n    }\n</style>\n<table border=\"1\" class=\"dataframe\">\n  <thead>\n    <tr style=\"text-align: right;\">\n      <th></th>\n      <th>count</th>\n      <th>mean</th>\n      <th>std</th>\n      <th>min</th>\n      <th>25%</th>\n      <th>50%</th>\n      <th>75%</th>\n      <th>max</th>\n    </tr>\n  </thead>\n  <tbody>\n    <tr>\n      <th>Rooms</th>\n      <td>34857.0</td>\n      <td>3.031012e+00</td>\n      <td>0.969933</td>\n      <td>1.00000</td>\n      <td>2.00000</td>\n      <td>3.0000</td>\n      <td>4.000000e+00</td>\n      <td>1.600000e+01</td>\n    </tr>\n    <tr>\n      <th>Price</th>\n      <td>27247.0</td>\n      <td>1.050173e+06</td>\n      <td>641467.130105</td>\n      <td>85000.00000</td>\n      <td>635000.00000</td>\n      <td>870000.0000</td>\n      <td>1.295000e+06</td>\n      <td>1.120000e+07</td>\n    </tr>\n    <tr>\n      <th>Distance</th>\n      <td>34856.0</td>\n      <td>1.118493e+01</td>\n      <td>6.788892</td>\n      <td>0.00000</td>\n      <td>6.40000</td>\n      <td>10.3000</td>\n      <td>1.400000e+01</td>\n      <td>4.810000e+01</td>\n    </tr>\n    <tr>\n      <th>Bedroom2</th>\n      <td>26640.0</td>\n      <td>3.084647e+00</td>\n      <td>0.980690</td>\n      <td>0.00000</td>\n      <td>2.00000</td>\n      <td>3.0000</td>\n      <td>4.000000e+00</td>\n      <td>3.000000e+01</td>\n    </tr>\n    <tr>\n      <th>Bathroom</th>\n      <td>26631.0</td>\n      <td>1.624798e+00</td>\n      <td>0.724212</td>\n      <td>0.00000</td>\n      <td>1.00000</td>\n      <td>2.0000</td>\n      <td>2.000000e+00</td>\n      <td>1.200000e+01</td>\n    </tr>\n    <tr>\n      <th>Car</th>\n      <td>26129.0</td>\n      <td>1.728845e+00</td>\n      <td>1.010771</td>\n      <td>0.00000</td>\n      <td>1.00000</td>\n      <td>2.0000</td>\n      <td>2.000000e+00</td>\n      <td>2.600000e+01</td>\n    </tr>\n    <tr>\n      <th>Landsize</th>\n      <td>23047.0</td>\n      <td>5.935990e+02</td>\n      <td>3398.841946</td>\n      <td>0.00000</td>\n      <td>224.00000</td>\n      <td>521.0000</td>\n      <td>6.700000e+02</td>\n      <td>4.330140e+05</td>\n    </tr>\n    <tr>\n      <th>BuildingArea</th>\n      <td>13742.0</td>\n      <td>1.602564e+02</td>\n      <td>401.267060</td>\n      <td>0.00000</td>\n      <td>102.00000</td>\n      <td>136.0000</td>\n      <td>1.880000e+02</td>\n      <td>4.451500e+04</td>\n    </tr>\n    <tr>\n      <th>YearBuilt</th>\n      <td>15551.0</td>\n      <td>1.965290e+03</td>\n      <td>37.328178</td>\n      <td>1196.00000</td>\n      <td>1940.00000</td>\n      <td>1970.0000</td>\n      <td>2.000000e+03</td>\n      <td>2.106000e+03</td>\n    </tr>\n    <tr>\n      <th>Lattitude</th>\n      <td>26881.0</td>\n      <td>-3.781063e+01</td>\n      <td>0.090279</td>\n      <td>-38.19043</td>\n      <td>-37.86295</td>\n      <td>-37.8076</td>\n      <td>-3.775410e+01</td>\n      <td>-3.739020e+01</td>\n    </tr>\n    <tr>\n      <th>Longtitude</th>\n      <td>26881.0</td>\n      <td>1.450019e+02</td>\n      <td>0.120169</td>\n      <td>144.42379</td>\n      <td>144.93350</td>\n      <td>145.0078</td>\n      <td>1.450719e+02</td>\n      <td>1.455264e+02</td>\n    </tr>\n    <tr>\n      <th>Propertycount</th>\n      <td>34854.0</td>\n      <td>7.572888e+03</td>\n      <td>4428.090313</td>\n      <td>83.00000</td>\n      <td>4385.00000</td>\n      <td>6763.0000</td>\n      <td>1.041200e+04</td>\n      <td>2.165000e+04</td>\n    </tr>\n  </tbody>\n</table>\n</div>"
     },
     "metadata": {},
     "execution_count": 11
    }
   ],
   "source": [
    "df.describe().transpose()"
   ]
  },
  {
   "cell_type": "code",
   "execution_count": 12,
   "metadata": {},
   "outputs": [],
   "source": [
    "# according to the std of lattitude and longitude it is approx to 0 , it wont affects much on the mean , can drop.\n",
    "\n",
    "df.drop(['Longtitude','Lattitude'] , axis=1 , inplace=True)"
   ]
  },
  {
   "cell_type": "code",
   "execution_count": 13,
   "metadata": {},
   "outputs": [
    {
     "output_type": "execute_result",
     "data": {
      "text/plain": [
       "(34855, 19)"
      ]
     },
     "metadata": {},
     "execution_count": 13
    }
   ],
   "source": [
    "df.drop_duplicates(keep=False , inplace=True)\n",
    "\n",
    "df.shape"
   ]
  },
  {
   "cell_type": "code",
   "execution_count": 14,
   "metadata": {},
   "outputs": [
    {
     "output_type": "execute_result",
     "data": {
      "text/plain": [
       " 0.0     25690\n",
       " 1.0       569\n",
       "-1.0       248\n",
       " 2.0        77\n",
       "-2.0        23\n",
       " 3.0        18\n",
       " 4.0         4\n",
       "-6.0         2\n",
       "-3.0         2\n",
       "-7.0         1\n",
       "-17.0        1\n",
       "-27.0        1\n",
       "-5.0         1\n",
       " 8.0         1\n",
       "Name: Rooms vs Bedroom2, dtype: int64"
      ]
     },
     "metadata": {},
     "execution_count": 14
    }
   ],
   "source": [
    "df ['Rooms vs Bedroom2'] = df['Rooms'] - df['Bedroom2']\n",
    "df['Rooms vs Bedroom2'].value_counts()\n",
    "# checking if the freq between them is 0 , if 0 means duplicated need to remove "
   ]
  },
  {
   "cell_type": "code",
   "execution_count": 15,
   "metadata": {},
   "outputs": [
    {
     "output_type": "execute_result",
     "data": {
      "text/plain": [
       "(34855, 18)"
      ]
     },
     "metadata": {},
     "execution_count": 15
    }
   ],
   "source": [
    "#The differences between these variables are minimal so keeping both would only be duplicating information. So , dropping bedroom2 is a better choice.\n",
    "df = df.drop(['Bedroom2','Rooms vs Bedroom2'],1)\n",
    "df.shape"
   ]
  },
  {
   "source": [
    "Managing null values "
   ],
   "cell_type": "markdown",
   "metadata": {}
  },
  {
   "cell_type": "code",
   "execution_count": 16,
   "metadata": {},
   "outputs": [
    {
     "output_type": "execute_result",
     "data": {
      "text/plain": [
       "Suburb               0\n",
       "Address              0\n",
       "Rooms                0\n",
       "Type                 0\n",
       "Price             7608\n",
       "Method               0\n",
       "SellerG              0\n",
       "Date                 0\n",
       "Distance             1\n",
       "Postcode             1\n",
       "Bathroom          8226\n",
       "Car               8728\n",
       "Landsize         11810\n",
       "BuildingArea     21115\n",
       "YearBuilt        19306\n",
       "CouncilArea          3\n",
       "Regionname           3\n",
       "Propertycount        3\n",
       "dtype: int64"
      ]
     },
     "metadata": {},
     "execution_count": 16
    }
   ],
   "source": [
    "df.isnull().sum()"
   ]
  },
  {
   "cell_type": "code",
   "execution_count": 17,
   "metadata": {},
   "outputs": [],
   "source": [
    "df.dropna(subset=['Distance','Postcode','CouncilArea','Regionname','Propertycount','Price'],inplace=True)"
   ]
  },
  {
   "cell_type": "code",
   "execution_count": 18,
   "metadata": {},
   "outputs": [
    {
     "output_type": "execute_result",
     "data": {
      "text/plain": [
       "Suburb           0\n",
       "Address          0\n",
       "Rooms            0\n",
       "Type             0\n",
       "Price            0\n",
       "Method           0\n",
       "SellerG          0\n",
       "Date             0\n",
       "Distance         0\n",
       "Postcode         0\n",
       "Bathroom         0\n",
       "Car              0\n",
       "Landsize         0\n",
       "BuildingArea     0\n",
       "YearBuilt        0\n",
       "CouncilArea      0\n",
       "Regionname       0\n",
       "Propertycount    0\n",
       "dtype: int64"
      ]
     },
     "metadata": {},
     "execution_count": 18
    }
   ],
   "source": [
    "#replace null values in specific rows/columns with mean\n",
    "df['Landsize'].fillna(df['Landsize'].mean(), inplace=True)\n",
    "df['BuildingArea'].fillna(df['BuildingArea'].mean(), inplace=True)\n",
    "df['YearBuilt'].fillna(df['YearBuilt'].mean(), inplace=True)\n",
    "\n",
    "#to replace null values with mean\n",
    "df['Car'] = df.groupby('Type')['Car'].transform(lambda x: x.fillna(x.mean()))\n",
    "df['Bathroom'] = df.groupby('Rooms')['Bathroom'].transform(lambda x: x.fillna(x.mean()))\n",
    "\n",
    "df.loc[df['Bathroom'].isna()]\n",
    "df.drop(index = 7535, inplace=True)\n",
    "\n",
    "df.isnull().sum()\n",
    "\n",
    "#df.reset_index(drop=True)\n"
   ]
  },
  {
   "cell_type": "code",
   "execution_count": null,
   "metadata": {},
   "outputs": [],
   "source": []
  },
  {
   "source": [
    "Split Data and Linear Regression\n",
    "* determining underfitting or overfitting\n"
   ],
   "cell_type": "markdown",
   "metadata": {}
  },
  {
   "cell_type": "code",
   "execution_count": 19,
   "metadata": {},
   "outputs": [],
   "source": [
    "X = df[['Rooms', 'Distance', 'Bathroom', 'Car', 'Landsize','BuildingArea', 'Propertycount']]\n",
    "y = df['Price']"
   ]
  },
  {
   "cell_type": "code",
   "execution_count": 20,
   "metadata": {},
   "outputs": [],
   "source": [
    "from sklearn.model_selection import train_test_split\n",
    "from sklearn.linear_model import LinearRegression\n",
    "train_X, test_X, train_y, test_y = train_test_split(X, y, test_size=0.20, random_state=0)\n"
   ]
  },
  {
   "cell_type": "code",
   "execution_count": 21,
   "metadata": {},
   "outputs": [
    {
     "output_type": "execute_result",
     "data": {
      "text/plain": [
       "                 Coefficient\n",
       "Rooms          269185.600926\n",
       "Distance       -35923.703115\n",
       "Bathroom       209903.590861\n",
       "Car             55925.898100\n",
       "Landsize           11.577084\n",
       "BuildingArea       41.634456\n",
       "Propertycount      -3.202396"
      ],
      "text/html": "<div>\n<style scoped>\n    .dataframe tbody tr th:only-of-type {\n        vertical-align: middle;\n    }\n\n    .dataframe tbody tr th {\n        vertical-align: top;\n    }\n\n    .dataframe thead th {\n        text-align: right;\n    }\n</style>\n<table border=\"1\" class=\"dataframe\">\n  <thead>\n    <tr style=\"text-align: right;\">\n      <th></th>\n      <th>Coefficient</th>\n    </tr>\n  </thead>\n  <tbody>\n    <tr>\n      <th>Rooms</th>\n      <td>269185.600926</td>\n    </tr>\n    <tr>\n      <th>Distance</th>\n      <td>-35923.703115</td>\n    </tr>\n    <tr>\n      <th>Bathroom</th>\n      <td>209903.590861</td>\n    </tr>\n    <tr>\n      <th>Car</th>\n      <td>55925.898100</td>\n    </tr>\n    <tr>\n      <th>Landsize</th>\n      <td>11.577084</td>\n    </tr>\n    <tr>\n      <th>BuildingArea</th>\n      <td>41.634456</td>\n    </tr>\n    <tr>\n      <th>Propertycount</th>\n      <td>-3.202396</td>\n    </tr>\n  </tbody>\n</table>\n</div>"
     },
     "metadata": {},
     "execution_count": 21
    }
   ],
   "source": [
    "lg = LinearRegression().fit(train_X,train_y)\n",
    "coeff_df = pd.DataFrame(lg.coef_, X.columns, columns=['Coefficient'])\n",
    "coeff_df"
   ]
  },
  {
   "cell_type": "code",
   "execution_count": 22,
   "metadata": {},
   "outputs": [
    {
     "output_type": "stream",
     "name": "stdout",
     "text": [
      "Train score:  0.38309054875463877\nTest score :  0.35494404674315816\n"
     ]
    }
   ],
   "source": [
    "# R square for linear \n",
    "y_pred = lg.predict(test_X)\n",
    "print('Train score: ',lg.score(train_X, train_y))\n",
    "print('Test score : ',lg.score(test_X, test_y))"
   ]
  },
  {
   "cell_type": "code",
   "execution_count": 23,
   "metadata": {},
   "outputs": [
    {
     "output_type": "stream",
     "name": "stdout",
     "text": [
      "Mean Absolute Error: 346121.05327463005\nMean Squared Error: 257923181216.72104\nRoot Mean Squared Error: 507861.37992243614\n"
     ]
    }
   ],
   "source": [
    "from sklearn import metrics\n",
    "print('Mean Absolute Error:', metrics.mean_absolute_error(test_y, y_pred))\n",
    "print('Mean Squared Error:', metrics.mean_squared_error(test_y, y_pred))\n",
    "print('Root Mean Squared Error:', np.sqrt(metrics.mean_squared_error(test_y, y_pred)))"
   ]
  },
  {
   "source": [
    "Data evaluation using ridge and lasso regression"
   ],
   "cell_type": "markdown",
   "metadata": {}
  },
  {
   "cell_type": "code",
   "execution_count": 24,
   "metadata": {},
   "outputs": [
    {
     "output_type": "stream",
     "name": "stdout",
     "text": [
      "Mean Squared Error: 257868819882.63892\nR-square value: 0.35508000234827763\n"
     ]
    }
   ],
   "source": [
    "from sklearn import linear_model\n",
    "from sklearn.linear_model import Ridge, RidgeCV, Lasso, LassoCV\n",
    "lasso_reg = Lasso(alpha=1.0, max_iter=100, normalize=True)\n",
    "lasso_reg.fit(train_X, train_y)\n",
    "mse = metrics.mean_squared_error(test_y, lasso_reg.predict(test_X))\n",
    "r2 = lasso_reg.score(test_X,test_y)\n",
    "\n",
    "print('Mean Squared Error:', mse)\n",
    "print('R-square value:', r2)"
   ]
  },
  {
   "cell_type": "code",
   "execution_count": 25,
   "metadata": {},
   "outputs": [
    {
     "output_type": "stream",
     "name": "stdout",
     "text": [
      "Mean Squared Error: 287193387287.6662\nR-square value: 0.29919289901003454\n"
     ]
    }
   ],
   "source": [
    "ridge_reg = linear_model.Ridge (alpha=1.0, max_iter=100, normalize=True)\n",
    "ridge_reg.fit(train_X, train_y)\n",
    "mse = metrics.mean_squared_error(test_y, ridge_reg.predict(test_X))\n",
    "r2 = ridge_reg.score(train_X,train_y)\n",
    "\n",
    "print('Mean Squared Error:', mse)\n",
    "print('R-square value:', r2)\n"
   ]
  },
  {
   "cell_type": "code",
   "execution_count": 26,
   "metadata": {},
   "outputs": [
    {
     "output_type": "stream",
     "name": "stdout",
     "text": [
      "alpha: 0.10\n"
     ]
    }
   ],
   "source": [
    "regr_cv = RidgeCV(alphas=[0.1, 1.0, 10.0])\n",
    "model_cv = regr_cv.fit(X, y)\n",
    "print('alpha: %.2f' % model_cv.alpha_)"
   ]
  },
  {
   "cell_type": "code",
   "execution_count": null,
   "metadata": {},
   "outputs": [],
   "source": []
  }
 ]
}